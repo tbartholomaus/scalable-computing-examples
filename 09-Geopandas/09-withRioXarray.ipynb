{
 "cells": [
  {
   "cell_type": "markdown",
   "metadata": {},
   "source": [
    "Email from Jeannette\n",
    "\n",
    "at 10:42 am on Wed Mar 27th, 2024\n",
    "\n",
    "--\n",
    "S. Jeanette Clark\n",
    "\n",
    "Projects Data Coordinator\n",
    "National Center for Ecological Analysis and Synthesis\n",
    "\n",
    "jclark@nceas.ucsb.edu"
   ]
  },
  {
   "cell_type": "code",
   "execution_count": null,
   "metadata": {},
   "outputs": [],
   "source": [
    "\n",
    "\n",
    "\n",
    "import urllib\n",
    "from shapely.geometry import box\n",
    "import geopandas as gpd\n",
    "import rioxarray as rioxr\n",
    "import os\n",
    "\n",
    "url = 'https://arcticdata.io/metacat/d1/mn/v2/object/urn%3Auuid%3A6b847ab0-9a3d-4534-bf28-3a96c5fa8d72'\n",
    "msg = urllib.request.urlretrieve(url, \"Coastal_2020_08.tif\")\n",
    "\n",
    "# get coordinates in correct projection for bounding box\n",
    "coord_box = box(-159.5, 55, -144.5, 62)\n",
    "\n",
    "coord_box_df = gpd.GeoDataFrame(\n",
    "    crs = 'EPSG:4326',\n",
    "    geometry = [coord_box]).to_crs(\"EPSG:3338\")\n",
    "# extract max and min for the select method\n",
    "c = coord_box_df.get_coordinates()\n",
    "\n",
    "max_x = c.x.max()\n",
    "min_x = c.x.min()\n",
    "max_y = c.y.max()\n",
    "min_y = c.y.min()\n",
    "\n",
    "# read in the file\n",
    "fp = os.path.join(os.getcwd(),\"Coastal_2020_08.tif\")\n",
    "ships = rioxr.open_rasterio(fp, mask_and_scale=True).squeeze()\n",
    "\n",
    "# crop using the sel method\n",
    "shipsc = ships.sel(x = slice(min_x,max_x), y = slice(max_y,min_y))\n",
    "\n",
    "--\n",
    "S. Jeanette Clark\n",
    "\n",
    "Projects Data Coordinator\n",
    "National Center for Ecological Analysis and Synthesis"
   ]
  }
 ],
 "metadata": {
  "language_info": {
   "name": "python"
  }
 },
 "nbformat": 4,
 "nbformat_minor": 2
}
