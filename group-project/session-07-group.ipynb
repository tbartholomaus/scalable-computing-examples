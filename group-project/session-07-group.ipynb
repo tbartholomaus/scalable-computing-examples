{
 "cells": [
  {
   "cell_type": "code",
   "execution_count": 1,
   "metadata": {},
   "outputs": [],
   "source": [
    "# Import all the libraries we need\n",
    "import os\n",
    "\n",
    "import parsl\n",
    "from parsl import python_app\n",
    "from parsl.config import Config\n",
    "from parsl.channels import LocalChannel\n",
    "from parsl.executors import HighThroughputExecutor\n",
    "from parsl.providers import LocalProvider\n",
    "\n",
    "# Helper functions\n",
    "from grouputils import initialize_stager\n",
    "from grouputils import plot_tiles\n",
    "from grouputils import initialize_rasterizer"
   ]
  },
  {
   "attachments": {},
   "cell_type": "markdown",
   "metadata": {},
   "source": [
    "## Background - Step 1\n",
    "\n",
    "The first step in our workflow is to \"stage\" our data. Staging the data encompasses the following pre-processing tasks:\n",
    "\n",
    "- simplify the polygons \n",
    "- set an input CRS if one is missing\n",
    "- reproject the data when required\n",
    "- add additional properties to each polygon, including:\n",
    "  - the centroid x and y coordinates\n",
    "  - area\n",
    "  - a unique ID\n",
    "  - name of the file that the\n",
    "  polygon originated from\n",
    "- break each input file into [standardized tiles](https://docs.opengeospatial.org/is/17-083r2/17-083r2.html)\n",
    "- identify duplicate polygons (those that occur in two staged tiles)\n",
    "- save them to disk, following a file hierarchy and naming format for x, y, and z coordinates of the tiles\n",
    "\n",
    "Here is a diagram showing what the most important step, the last one, looks like.\n",
    "\n",
    "![](https://raw.githubusercontent.com/PermafrostDiscoveryGateway/viz-staging/develop/docs/images/staging_tldr.png)\n",
    "\n",
    "We will use some methods from the `pdgstaging` library to stage our tiles. The first step, is to initalize the `TileStager`. The `TileStager` is a class with a method `stage`, which works on a single vector file."
   ]
  },
  {
   "attachments": {},
   "cell_type": "markdown",
   "metadata": {},
   "source": [
    "### Initalize the stager\n",
    "\n",
    "Fist we need to use the `initialize_stager` function to instantiate the `TileStager` object. The only argument to this function is `dir_input`, the directory of input data.\n",
    "\n",
    "Input vector files are located **in `/home/shares/example-pdg-data/SCC-2023`**"
   ]
  },
  {
   "cell_type": "code",
   "execution_count": 2,
   "metadata": {},
   "outputs": [],
   "source": [
    "# Execute the initialize_stager function with the path for the input data\n",
    "# Save the result to a variable called iwp_stager\n",
    "iwp_stager = initialize_stager(\"/home/shares/example-pdg-data/SCC-2023\")"
   ]
  },
  {
   "attachments": {},
   "cell_type": "markdown",
   "metadata": {},
   "source": [
    "The `iwp_stager` object works as a tool that communicates the configuration settings to the staging function. The stager tells the staging function:\n",
    "- where to pull the input files from\n",
    "- where to write the staged tiles\n",
    "- the coordinate reference system to use, by passing the TileMatrixSet\n",
    "- whether the input data should be deduplicated, etc.\n",
    "\n",
    "Next let's use it to get a list of files to stage."
   ]
  },
  {
   "cell_type": "code",
   "execution_count": 8,
   "metadata": {},
   "outputs": [],
   "source": [
    "files_to_stage = iwp_stager.tiles.get_filenames_from_dir('input')"
   ]
  },
  {
   "cell_type": "markdown",
   "metadata": {},
   "source": [
    "## Stage one file\n",
    "\n",
    "Here is an example of how to run the stager on one file. We use the `stage` method on the `iwp_stager` object, with a path to a file as the argument to the method."
   ]
  },
  {
   "cell_type": "code",
   "execution_count": 4,
   "metadata": {},
   "outputs": [],
   "source": [
    "example_file = files_to_stage[1] # file = 88.3 MB\n",
    "\n",
    "iwp_stager.stage(example_file)"
   ]
  },
  {
   "attachments": {},
   "cell_type": "markdown",
   "metadata": {},
   "source": [
    "Check out your driectory `scalable-computing-course/group-project` - you'll see that a subdirectory called `staged` has been created. This directory contains the `.gpkg` files output. To check how many staged files were created, you can run the command: `find group-project/staged -type f | wc -l`"
   ]
  },
  {
   "attachments": {},
   "cell_type": "markdown",
   "metadata": {},
   "source": [
    "### Estimating total computation time\n",
    "\n",
    "Based on how long staging one file took, estimate how long that would take to stage all 11 input files, serially."
   ]
  },
  {
   "attachments": {},
   "cell_type": "markdown",
   "metadata": {},
   "source": [
    "Due to the different sizes of each input file, it can be difficult to predict how long it will actually take. All the files that make up this small data sample are very small relative to other files in the compelete dataset, so our calculation results in an underestimate when we scale up the workflow. The largest file in this dataset sample is 88.2 MB, and an average ice wedge polygon file is around 400 MB, resulting in a processing time of many minutes.\n",
    "\n",
    "Additionally, a computer's resources are limited by the amount of people concurrently processing files and writing them (I/0 wait). When a machine is writing a file, it is not \"working\", it's waiting for the file to be written. When many users are writing files, a queue builds up."
   ]
  },
  {
   "attachments": {},
   "cell_type": "markdown",
   "metadata": {},
   "source": [
    "### Scaling up the workflow\n",
    "\n",
    "Computation time also depends on the machine you're working on. With more input GeoPackages from this dataset, it is common to run into an \"out of memory\" error that cancels the entire process when run serially. Tools such as `htop` and `glances` help with monitorting memory, CPU usage, and which accounts are runnning each process on a server. If a process is running slower than you would expect, you can check these dashboards to diagnose the problem. If your dashbord shows your memory is steadily increasing and reaches >90%, that's a sign your process will crash! When doing test runs with your data, it is important to monitor your memory to determine how the usage will increase in addition to the number of output files. \n",
    "\n",
    "The complete ice wedge polygon dataset contains **26,530** GeoPackages. How long would it take to process all of them serially, assuming they all took the same amount of time as our example file? Recall this your answer will be an underestimate!"
   ]
  },
  {
   "cell_type": "code",
   "execution_count": null,
   "metadata": {},
   "outputs": [],
   "source": [
    "# Estimate computation time for all 26,530 files\n"
   ]
  },
  {
   "attachments": {},
   "cell_type": "markdown",
   "metadata": {},
   "source": [
    "### Visualizing staged tiles\n",
    "\n",
    "As the number of files gets bigger, things get out of hand quickly. Luckily for us, this problem is pleasingly parallel. The staging of each file is completely independent of the others. So, let's set this up as a `parsl` workflow using the skills we learned in Section 4: Pleasingly Parallel Programming.\n",
    "\n",
    "Just to get a sense of what happened, let's plot the result of our test staging effort using a `plot_tiles` helper function we wrote for this activity."
   ]
  },
  {
   "cell_type": "code",
   "execution_count": null,
   "metadata": {},
   "outputs": [],
   "source": [
    "plot_tiles(iwp_stager) "
   ]
  },
  {
   "attachments": {},
   "cell_type": "markdown",
   "metadata": {},
   "source": [
    "Finally, let's remove the files we just created (including the staging summary csv file that's generated with the staged files) to prepare to run this over all of the files. If we don't do this, polygons will get appended to the staged files which will result in duplication.\n",
    "\n",
    "We also need to refresh the stager to its original state for a new staging instance."
   ]
  },
  {
   "cell_type": "code",
   "execution_count": null,
   "metadata": {},
   "outputs": [],
   "source": [
    "# Remove files and staged directory\n",
    "os.system(f'rm -rf {iwp_stager.config.get(\"dir_staged\")}')\n",
    "os.system(f'rm {iwp_stager.config.get(\"filename_staging_summary\")}')\n",
    "\n",
    "# Refresh the stager\n",
    "iwp_stager = initialize_stager(\"/home/shares/example-pdg-data\")"
   ]
  },
  {
   "attachments": {},
   "cell_type": "markdown",
   "metadata": {},
   "source": [
    "## Staging in parallel"
   ]
  },
  {
   "attachments": {},
   "cell_type": "markdown",
   "metadata": {},
   "source": [
    "#### Which exector should we use?\n",
    "\n",
    "First set up the configuration for `parsl` using `config`, and a `HighThroughputExecutor` (`parsl` has many executor options). We are working on a single node with 88 cores, so we have the choice between `HighThroughputExecutor` or `ThreadPoolExecutor`. We chose to use `HighThroughputExecutor` because it avoids long job scheduler queue delays by acquiring a set of resources initially, allowing it to schedule _multiple tasks_ on a single node! \n",
    "\n",
    "Using the other exector actually makes our execution time longer. With this set of input data and imported libraries, achieveing parallelization with the `ThreadPoolExecutor` is largely limited by python's \"global interpreter lock\". This is a lock that allows only 1 thread to hold control of the python interpreter. One way to avoid the global interpreter lock is to use multi-processing approach, rather than a multi-threaded approach. This works because each python process gets its own interpreter and memory space. This is exactly what we are doing with the `HighThroughputExecutor`! This executor coordinates tasks over several cores in a node.\n",
    "\n",
    "#### Configuration\n",
    "\n",
    "For the executor, set the `max_workers` to 11, and set the `max_blocks` to 1. This will spread our work over 11 processes on the server.\n",
    "\n",
    "A \"block\" is the most basic unit of resources to be aquired from a provider. A block has a different definition depending on the kind of server you're working on (whether you have been allocated multiple nodes, or do work on _one node_ that has multiple _cores_). We are working on a multi-core node, we wouldn't want to set our blocks to be higher than 1, because a block _at minimum_ is 1 node.\n",
    "\n",
    "There are plenty of `parsl` configuration options out there, but many are not relevant for our server and do not speed up the process. \n",
    "\n",
    "Make sure you pass the bash command you use to invoke your virtual environment to the `worker_init` argument as a string."
   ]
  },
  {
   "cell_type": "code",
   "execution_count": 3,
   "metadata": {},
   "outputs": [],
   "source": [
    "import time\n",
    "from functools import wraps\n",
    "\n",
    "def timethis(func):\n",
    "    \"\"\" \n",
    "    Print the execution time for a function call\n",
    "    \"\"\"\n",
    "    @wraps(func)\n",
    "    def wrapped_method(*args, **kwargs):\n",
    "        time_start = time.time()\n",
    "        output = func(*args, **kwargs)\n",
    "        time_end = time.time()\n",
    "        print(f\"{func.__name__}: {(time_end-time_start)*1000} ms\")\n",
    "\n",
    "        return output\n",
    "\n",
    "    return wrapped_method"
   ]
  },
  {
   "cell_type": "code",
   "execution_count": 4,
   "metadata": {},
   "outputs": [
    {
     "data": {
      "text/plain": [
       "<parsl.dataflow.dflow.DataFlowKernel at 0x7f6d6aa40280>"
      ]
     },
     "execution_count": 4,
     "metadata": {},
     "output_type": "execute_result"
    }
   ],
   "source": [
    "# TEMPLATE FOR PARSL CONFIG:\n",
    "\n",
    "# activate_env = 'workon scomp'\n",
    "# htex_config = Config(\n",
    "#   executors=[\n",
    "#       HighThroughputExecutor(\n",
    "#           ..., \n",
    "#           provider = LocalProvider(\n",
    "#             worker_init = activate_env,\n",
    "#             ...\n",
    "#           )\n",
    "#       )\n",
    "#   ]\n",
    "# )\n",
    "# Set up the parsl executor\n",
    "import parsl\n",
    "from parsl import python_app\n",
    "from parsl.config import Config\n",
    "from parsl.executors import HighThroughputExecutor\n",
    "from parsl.providers import LocalProvider\n",
    "\n",
    "# Configure the parsl executor\n",
    "activate_env = 'workon scomp'\n",
    "htex_local = Config(\n",
    "    executors=[\n",
    "        HighThroughputExecutor(\n",
    "            max_workers=11,\n",
    "            provider=LocalProvider(\n",
    "                worker_init=activate_env\n",
    "            )\n",
    "        )\n",
    "    ],\n",
    ")\n",
    "parsl.clear()\n",
    "parsl.load(htex_local)\n"
   ]
  },
  {
   "attachments": {},
   "cell_type": "markdown",
   "metadata": {},
   "source": [
    "Next, set up your Parsl app to run the `stage` method in parallel. You'll need to pass 2 arguments to the app function:\n",
    "1. The path to the input file.\n",
    "2. The `TileStager` instance we created earlier.\n",
    "\n",
    "Note how the function returns the input path. This will give us something to interate over, since the `stage` method returns `None` (and writes files!)"
   ]
  },
  {
   "cell_type": "code",
   "execution_count": 5,
   "metadata": {},
   "outputs": [],
   "source": [
    "# Make a Parsl app that uses the stage method\n",
    "# Function arguments: path, stager\n",
    "# Create a task function that we want to parallelize\n",
    "\n",
    "from grouputils import initialize_stager\n",
    "\n",
    "@python_app\n",
    "def stage_one_file(iwp_stager,one_file_to_stage):\n",
    "    iwp_stager.stage(one_file_to_stage)\n",
    "    return one_file_to_stage"
   ]
  },
  {
   "attachments": {},
   "cell_type": "markdown",
   "metadata": {},
   "source": [
    "Now, execute the app in parallel over all of the `files_to_stage`. In this solution, we use a simple loop to run our `parsl` app, and then list comprehension to retrieve the result from our futures."
   ]
  },
  {
   "cell_type": "code",
   "execution_count": 7,
   "metadata": {},
   "outputs": [],
   "source": [
    "# Execute the app using app.futures\n",
    "@timethis\n",
    "def download_futures(iwp_stager,files_to_stage):\n",
    "    futures = []\n",
    "    for file in files_to_stage:\n",
    "        future = stage_one_file(iwp_stager,file)\n",
    "        futures.append(future)\n",
    "    return futures\n",
    "\n",
    "def check_futures(all_futures):\n",
    "    # all_futures = download_futures(files_to_stage)\n",
    "    for future in all_futures:\n",
    "        print(\"checking: \", future)\n",
    "        if(future.done()):\n",
    "            print(\"Do more with the results: \", future.result())\n",
    "        else:\n",
    "            print(\"    Not done yet\")"
   ]
  },
  {
   "cell_type": "code",
   "execution_count": 8,
   "metadata": {},
   "outputs": [
    {
     "name": "stdout",
     "output_type": "stream",
     "text": [
      "download_futures: 31.186580657958984 ms\n"
     ]
    }
   ],
   "source": [
    "files_to_stage = iwp_stager.tiles.get_filenames_from_dir('input')\n",
    "iwp_stager = initialize_stager(\"/home/shares/example-pdg-data/SCC-2023\")\n",
    "\n",
    "all_futures = download_futures(iwp_stager,files_to_stage)"
   ]
  },
  {
   "cell_type": "code",
   "execution_count": 10,
   "metadata": {},
   "outputs": [
    {
     "name": "stdout",
     "output_type": "stream",
     "text": [
      "checking:  <AppFuture at 0x7f6d43bd7190 state=finished returned str>\n",
      "Do more with the results:  /home/shares/example-pdg-data/SCC-2023/GE01_20180907225323_1050010012146100_18SEP07225323-M1BS-502583898040_01_P003_u16rf3413_pansh.gpkg\n",
      "checking:  <AppFuture at 0x7f6d43bd70d0 state=pending>\n",
      "    Not done yet\n",
      "checking:  <AppFuture at 0x7f6d43bd6dd0 state=pending>\n",
      "    Not done yet\n",
      "checking:  <AppFuture at 0x7f6d43bd7760 state=finished returned str>\n",
      "Do more with the results:  /home/shares/example-pdg-data/SCC-2023/QB02_20090828220951_101001000A2D0F00_09AUG28220951-M1BS-052802016020_01_P004_u16rf3413_pansh.gpkg\n",
      "checking:  <AppFuture at 0x7f6d43bd7460 state=pending>\n",
      "    Not done yet\n",
      "checking:  <AppFuture at 0x7f6d43bd7040 state=finished returned str>\n",
      "Do more with the results:  /home/shares/example-pdg-data/SCC-2023/QB02_20110722215239_101001000DD28400_11JUL22215239-M1BS-052802088070_01_P001_u16rf3413_pansh.gpkg\n",
      "checking:  <AppFuture at 0x7f6d595be9b0 state=pending>\n",
      "    Not done yet\n",
      "checking:  <AppFuture at 0x7f6d595be6b0 state=pending>\n",
      "    Not done yet\n",
      "checking:  <AppFuture at 0x7f6c907981f0 state=pending>\n",
      "    Not done yet\n",
      "checking:  <AppFuture at 0x7f6c90798370 state=finished returned str>\n",
      "Do more with the results:  /home/shares/example-pdg-data/SCC-2023/QB02_20080807222313_101001000864C800_08AUG07222313-M1BS-052800731090_01_P004_u16rf3413_pansh.gpkg\n",
      "checking:  <AppFuture at 0x7f6c907984f0 state=finished returned str>\n",
      "Do more with the results:  /home/shares/example-pdg-data/SCC-2023/QB02_20080827224418_10100100087DAC00_08AUG27224418-M1BS-052800784050_01_P004_u16rf3413_pansh.gpkg\n"
     ]
    }
   ],
   "source": [
    "check_futures(all_futures)"
   ]
  },
  {
   "cell_type": "code",
   "execution_count": 11,
   "metadata": {},
   "outputs": [
    {
     "name": "stdout",
     "output_type": "stream",
     "text": [
      "454 are present.             Only plotting the first 45 files.\n"
     ]
    },
    {
     "data": {
      "image/png": "[encoded data removed]",
      "text/plain": [
       "<Figure size 2200x2200 with 1 Axes>"
      ]
     },
     "metadata": {},
     "output_type": "display_data"
    }
   ],
   "source": [
    "plot_tiles(iwp_stager)"
   ]
  },
  {
   "attachments": {},
   "cell_type": "markdown",
   "metadata": {},
   "source": [
    "Don't forget to shutdown your executor and clear `parsl`."
   ]
  },
  {
   "cell_type": "code",
   "execution_count": null,
   "metadata": {},
   "outputs": [],
   "source": [
    "# Shutdown and clear the parsl executor\n",
    "htex_local.executors[0].shutdown()\n",
    "parsl.clear()"
   ]
  },
  {
   "attachments": {},
   "cell_type": "markdown",
   "metadata": {},
   "source": [
    "Now we can check out the `plot_tiles` result again (which will only plot the first 45 of our tiled files)"
   ]
  },
  {
   "cell_type": "code",
   "execution_count": null,
   "metadata": {},
   "outputs": [],
   "source": []
  },
  {
   "cell_type": "markdown",
   "metadata": {},
   "source": [
    "## Background: Step 2\n",
    "\n",
    "![](https://raw.githubusercontent.com/PermafrostDiscoveryGateway/viz-raster/develop/docs/images/raster_tldr.png)\n",
    "\n",
    "Today, we will create rasters from the regularly gridded staged data from yesterday (vector data, left side of diagram above). Each pixel of the raster will contain a stasticic calculated based on the underlying vector data for that pixel.\n",
    "\n",
    "The two statistics we calculate are:\n",
    "\n",
    "- number of IWP per pixel\n",
    "- proportion of pixel covered by IWP\n",
    "\n",
    "The vector data on the left are geopackages, which can be read in as simple geodataframes. The rasters take the geometry columns of all the geodataframes, which are all simple polygons, and represent them as pixels. \n",
    "\n",
    "Similar to the `TileStager` from the first step of the group project, in this step we will use a `RasterTiler` class, which we initialize using `initialize_rasterizer`."
   ]
  },
  {
   "cell_type": "code",
   "execution_count": 28,
   "metadata": {},
   "outputs": [],
   "source": [
    "# Execute the initialize_rasterizer function with the filepath for the input data\n",
    "# Save the result to a variable called iwp_rasterizer\n",
    "iwp_rasterizer = initialize_rasterizer(\"/home/shares/example-pdg-data/SCC-2023\")"
   ]
  },
  {
   "cell_type": "markdown",
   "metadata": {},
   "source": [
    "Similarly to how the `iwp_stager` communicated configuration information to the stager, the `iwp_rasterizer` communicates  information to the rasterizer. This includes:\n",
    "\n",
    "- where the staged files are located\n",
    "- where to write the raster files\n",
    "- size of the rasters (in pixels)\n",
    "- what statistics to calculate (each becomes a band)"
   ]
  },
  {
   "cell_type": "code",
   "execution_count": 29,
   "metadata": {},
   "outputs": [
    {
     "name": "stdout",
     "output_type": "stream",
     "text": [
      "454 files to rasterize.\n"
     ]
    }
   ],
   "source": [
    "staged_paths = iwp_rasterizer.tiles.get_filenames_from_dir('staged')\n",
    "print(len(staged_paths), \"files to rasterize.\")"
   ]
  },
  {
   "cell_type": "markdown",
   "metadata": {},
   "source": [
    "We can use the `rasterize_vector` method on our `RasterTiler` class object, and pass it the first file in our list of staged files to rasterize just one file."
   ]
  },
  {
   "cell_type": "code",
   "execution_count": 39,
   "metadata": {},
   "outputs": [
    {
     "data": {
      "text/plain": [
       "Tile(x=909, y=1059, z=13)"
      ]
     },
     "execution_count": 39,
     "metadata": {},
     "output_type": "execute_result"
    }
   ],
   "source": [
    "iwp_rasterizer.rasterize_vector(staged_paths[0])"
   ]
  },
  {
   "cell_type": "markdown",
   "metadata": {},
   "source": [
    "This went pretty quickly, but with hundreds of files, it would still be beneficial to parallelize. Estimate the length of time it would take to process the files in series below:"
   ]
  },
  {
   "cell_type": "code",
   "execution_count": null,
   "metadata": {},
   "outputs": [],
   "source": [
    "# estimate duration of rasterization process"
   ]
  },
  {
   "cell_type": "markdown",
   "metadata": {},
   "source": [
    "## Rasterize in Parallel\n",
    "\n",
    "Given what you know about the limits of parallelization, discuss in your group whether you think this problem is:\n",
    "\n",
    "- cpu-bound\n",
    "- memory-bound\n",
    "- I/O-bound\n",
    "- network-bound\n",
    "\n",
    "How does it compare to the parallelization task from step 1?\n",
    "\n",
    "Instead of parallelizing this step over all 454 files, we will instead process the data in batches of files. Below is a function we can use to make batches of files."
   ]
  },
  {
   "cell_type": "code",
   "execution_count": 32,
   "metadata": {},
   "outputs": [],
   "source": [
    "# Because rasterization is relatively quick, we want each parsl \"task\" to process a batch of tiles.\n",
    "def make_batch(items, batch_size):\n",
    "    # Create batches of a given size from a list of items.\n",
    "    return [items[i:i + batch_size] for i in range(0, len(items), batch_size)]"
   ]
  },
  {
   "cell_type": "markdown",
   "metadata": {},
   "source": [
    "Use the `make_batch` function to make batches of 10 items each of our staged data (`staged_paths`)."
   ]
  },
  {
   "cell_type": "code",
   "execution_count": 33,
   "metadata": {},
   "outputs": [],
   "source": [
    "# make batches of 10 files\n",
    "batched_files = make_batch(staged_paths, 10)"
   ]
  },
  {
   "cell_type": "code",
   "execution_count": 35,
   "metadata": {},
   "outputs": [
    {
     "data": {
      "text/plain": [
       "46"
      ]
     },
     "execution_count": 35,
     "metadata": {},
     "output_type": "execute_result"
    }
   ],
   "source": [
    "len(batched_files)"
   ]
  },
  {
   "cell_type": "markdown",
   "metadata": {},
   "source": [
    "Now, set up your Parsl executor again, with `max_workers` set at 11 and `max_blocks` set at 1."
   ]
  },
  {
   "cell_type": "code",
   "execution_count": 36,
   "metadata": {},
   "outputs": [
    {
     "data": {
      "text/plain": [
       "<parsl.dataflow.dflow.DataFlowKernel at 0x7fdfabdea5f0>"
      ]
     },
     "execution_count": 36,
     "metadata": {},
     "output_type": "execute_result"
    }
   ],
   "source": [
    "# TEMPLATE FOR PARSL CONFIG:\n",
    "\n",
    "# activate_env = 'workon scomp'\n",
    "# htex_config = Config(\n",
    "#   executors=[\n",
    "#       HighThroughputExecutor(\n",
    "#           ..., \n",
    "#           provider = LocalProvider(\n",
    "#             worker_init = activate_env,\n",
    "#             ...\n",
    "#           )\n",
    "#       )\n",
    "#   ]\n",
    "# )\n",
    "# Set up the parsl executor\n",
    "import parsl\n",
    "from parsl import python_app\n",
    "from parsl.config import Config\n",
    "from parsl.executors import HighThroughputExecutor\n",
    "from parsl.providers import LocalProvider\n",
    "\n",
    "# Configure the parsl executor\n",
    "activate_env = 'workon scomp'\n",
    "htex_local = Config(\n",
    "    executors=[\n",
    "        HighThroughputExecutor(\n",
    "            max_workers=11,\n",
    "            provider=LocalProvider(\n",
    "                worker_init=activate_env\n",
    "            )\n",
    "        )\n",
    "    ],\n",
    ")\n",
    "parsl.clear()\n",
    "parsl.load(htex_local)"
   ]
  },
  {
   "cell_type": "markdown",
   "metadata": {},
   "source": [
    "Next, set up your Parsl app to run the `rasterize_vector` method in parallel. Remember that Parsl apps cannot rely on global variables or package imports, so you'll need to make sure to pass the app all of the variables it needs."
   ]
  },
  {
   "cell_type": "code",
   "execution_count": 37,
   "metadata": {},
   "outputs": [
    {
     "data": {
      "text/plain": [
       "'staged/WGS1984Quad/13/909/1059.gpkg'"
      ]
     },
     "execution_count": 37,
     "metadata": {},
     "output_type": "execute_result"
    }
   ],
   "source": [
    "staged_paths[0]"
   ]
  },
  {
   "cell_type": "code",
   "execution_count": 44,
   "metadata": {},
   "outputs": [],
   "source": [
    "# Make a Parsl app that uses the rasterize_vectors method\n",
    "# Create a task function that we want to parallelize\n",
    "# iwp_rasterizer.rasterize_vector(staged_paths[0])\n",
    "\n",
    "@python_app\n",
    "def rasterize_one_batch(iwp_rasterizer,staged_paths):\n",
    "    for path in staged_paths:\n",
    "        iwp_rasterizer.rasterize_vector(path)\n",
    "\n",
    "    return staged_paths\n",
    "    # return np.arange(x*10**7).sum()"
   ]
  },
  {
   "cell_type": "code",
   "execution_count": 48,
   "metadata": {},
   "outputs": [],
   "source": [
    "@timethis\n",
    "def download_futures(iwp_rasterizer,batched_files):\n",
    "    futures = []\n",
    "    for batch in batched_files:\n",
    "        future = rasterize_one_batch(iwp_rasterizer,batch)\n",
    "        futures.append(future)\n",
    "    return futures\n",
    "\n",
    "def check_futures(all_futures):\n",
    "    # all_futures = download_futures(files_to_stage)\n",
    "    for future in all_futures:\n",
    "        print(\"checking: \", future)\n",
    "        if(future.done()):\n",
    "            print(\"Do more with the results: \", future.result())\n",
    "        else:\n",
    "            print(\"    Not done yet\")"
   ]
  },
  {
   "cell_type": "markdown",
   "metadata": {},
   "source": [
    "Now, execute the app in parallel over all of the batches of files you created previously.\n",
    "\n",
    "While you wait for _all_ the geotiffs to be written, you can monitor the process with the command: `find group-project/geotiff -type f | wc -l` \n",
    "\n",
    "The total number of geotiffs for this step will be equivalent to the number of staged files."
   ]
  },
  {
   "cell_type": "code",
   "execution_count": 52,
   "metadata": {},
   "outputs": [
    {
     "name": "stdout",
     "output_type": "stream",
     "text": [
      "download_futures: 79184.19051170349 ms\n"
     ]
    }
   ],
   "source": [
    "# Rasterize the batches in parallel\n",
    "# iwp_rasterizer = initialize_rasterizer(\"/home/shares/example-pdg-data/SCC-2023\")\n",
    "all_futures = download_futures(iwp_rasterizer,batched_files)"
   ]
  },
  {
   "cell_type": "code",
   "execution_count": 55,
   "metadata": {},
   "outputs": [
    {
     "data": {
      "text/plain": [
       "46"
      ]
     },
     "execution_count": 55,
     "metadata": {},
     "output_type": "execute_result"
    }
   ],
   "source": [
    "len(all_futures)"
   ]
  },
  {
   "cell_type": "code",
   "execution_count": 54,
   "metadata": {},
   "outputs": [
    {
     "name": "stdout",
     "output_type": "stream",
     "text": [
      "checking:  <AppFuture at 0x7fdf8b4b7730 state=finished returned list>\n",
      "Do more with the results:  ['staged/WGS1984Quad/13/909/1059.gpkg', 'staged/WGS1984Quad/13/909/1060.gpkg', 'staged/WGS1984Quad/13/909/1061.gpkg', 'staged/WGS1984Quad/13/909/1068.gpkg', 'staged/WGS1984Quad/13/909/1069.gpkg', 'staged/WGS1984Quad/13/909/1062.gpkg', 'staged/WGS1984Quad/13/909/1063.gpkg', 'staged/WGS1984Quad/13/909/1067.gpkg', 'staged/WGS1984Quad/13/910/1059.gpkg', 'staged/WGS1984Quad/13/910/1060.gpkg']\n",
      "checking:  <AppFuture at 0x7fdf93baf100 state=finished returned list>\n",
      "Do more with the results:  ['staged/WGS1984Quad/13/910/1061.gpkg', 'staged/WGS1984Quad/13/910/1062.gpkg', 'staged/WGS1984Quad/13/910/1067.gpkg', 'staged/WGS1984Quad/13/910/1068.gpkg', 'staged/WGS1984Quad/13/910/1069.gpkg', 'staged/WGS1984Quad/13/910/1070.gpkg', 'staged/WGS1984Quad/13/910/1071.gpkg', 'staged/WGS1984Quad/13/910/1072.gpkg', 'staged/WGS1984Quad/13/910/1073.gpkg', 'staged/WGS1984Quad/13/910/1074.gpkg']\n",
      "checking:  <AppFuture at 0x7fdf9373e5c0 state=finished returned list>\n",
      "Do more with the results:  ['staged/WGS1984Quad/13/910/1079.gpkg', 'staged/WGS1984Quad/13/910/1080.gpkg', 'staged/WGS1984Quad/13/910/1081.gpkg', 'staged/WGS1984Quad/13/910/1082.gpkg', 'staged/WGS1984Quad/13/910/1083.gpkg', 'staged/WGS1984Quad/13/910/1063.gpkg', 'staged/WGS1984Quad/13/911/1059.gpkg', 'staged/WGS1984Quad/13/911/1060.gpkg', 'staged/WGS1984Quad/13/911/1061.gpkg', 'staged/WGS1984Quad/13/911/1062.gpkg']\n",
      "checking:  <AppFuture at 0x7fdf87a080d0 state=finished returned list>\n",
      "Do more with the results:  ['staged/WGS1984Quad/13/911/1067.gpkg', 'staged/WGS1984Quad/13/911/1068.gpkg', 'staged/WGS1984Quad/13/911/1069.gpkg', 'staged/WGS1984Quad/13/911/1070.gpkg', 'staged/WGS1984Quad/13/911/1072.gpkg', 'staged/WGS1984Quad/13/911/1073.gpkg', 'staged/WGS1984Quad/13/911/1074.gpkg', 'staged/WGS1984Quad/13/911/1079.gpkg', 'staged/WGS1984Quad/13/911/1080.gpkg', 'staged/WGS1984Quad/13/911/1081.gpkg']\n",
      "checking:  <AppFuture at 0x7fdf87ac7f40 state=finished returned list>\n",
      "Do more with the results:  ['staged/WGS1984Quad/13/911/1082.gpkg', 'staged/WGS1984Quad/13/911/1083.gpkg', 'staged/WGS1984Quad/13/911/1063.gpkg', 'staged/WGS1984Quad/13/912/1060.gpkg', 'staged/WGS1984Quad/13/912/1061.gpkg', 'staged/WGS1984Quad/13/912/1067.gpkg', 'staged/WGS1984Quad/13/912/1068.gpkg', 'staged/WGS1984Quad/13/912/1069.gpkg', 'staged/WGS1984Quad/13/912/1073.gpkg', 'staged/WGS1984Quad/13/912/1079.gpkg']\n",
      "checking:  <AppFuture at 0x7fdf87a0ffd0 state=finished returned list>\n",
      "Do more with the results:  ['staged/WGS1984Quad/13/912/1080.gpkg', 'staged/WGS1984Quad/13/912/1081.gpkg', 'staged/WGS1984Quad/13/912/1082.gpkg', 'staged/WGS1984Quad/13/912/1083.gpkg', 'staged/WGS1984Quad/13/912/1059.gpkg', 'staged/WGS1984Quad/13/912/1062.gpkg', 'staged/WGS1984Quad/13/912/1063.gpkg', 'staged/WGS1984Quad/13/897/1066.gpkg', 'staged/WGS1984Quad/13/897/1063.gpkg', 'staged/WGS1984Quad/13/897/1064.gpkg']\n",
      "checking:  <AppFuture at 0x7fdf87ac7c70 state=finished returned list>\n",
      "Do more with the results:  ['staged/WGS1984Quad/13/897/1065.gpkg', 'staged/WGS1984Quad/13/897/1067.gpkg', 'staged/WGS1984Quad/13/897/1074.gpkg', 'staged/WGS1984Quad/13/897/1075.gpkg', 'staged/WGS1984Quad/13/897/1076.gpkg', 'staged/WGS1984Quad/13/897/1077.gpkg', 'staged/WGS1984Quad/13/897/1078.gpkg', 'staged/WGS1984Quad/13/897/1079.gpkg', 'staged/WGS1984Quad/13/897/1080.gpkg', 'staged/WGS1984Quad/13/897/1059.gpkg']\n",
      "checking:  <AppFuture at 0x7fdf87a0fca0 state=finished returned list>\n",
      "Do more with the results:  ['staged/WGS1984Quad/13/897/1060.gpkg', 'staged/WGS1984Quad/13/897/1061.gpkg', 'staged/WGS1984Quad/13/897/1062.gpkg', 'staged/WGS1984Quad/13/898/1065.gpkg', 'staged/WGS1984Quad/13/898/1066.gpkg', 'staged/WGS1984Quad/13/898/1067.gpkg', 'staged/WGS1984Quad/13/898/1063.gpkg', 'staged/WGS1984Quad/13/898/1064.gpkg', 'staged/WGS1984Quad/13/898/1074.gpkg', 'staged/WGS1984Quad/13/898/1075.gpkg']\n",
      "checking:  <AppFuture at 0x7fdf87ac7400 state=finished returned list>\n",
      "Do more with the results:  ['staged/WGS1984Quad/13/898/1076.gpkg', 'staged/WGS1984Quad/13/898/1077.gpkg', 'staged/WGS1984Quad/13/898/1078.gpkg', 'staged/WGS1984Quad/13/898/1079.gpkg', 'staged/WGS1984Quad/13/898/1080.gpkg', 'staged/WGS1984Quad/13/898/1059.gpkg', 'staged/WGS1984Quad/13/898/1060.gpkg', 'staged/WGS1984Quad/13/898/1061.gpkg', 'staged/WGS1984Quad/13/898/1062.gpkg', 'staged/WGS1984Quad/13/899/1065.gpkg']\n",
      "checking:  <AppFuture at 0x7fdf8b0400a0 state=finished returned list>\n",
      "Do more with the results:  ['staged/WGS1984Quad/13/899/1066.gpkg', 'staged/WGS1984Quad/13/899/1067.gpkg', 'staged/WGS1984Quad/13/899/1068.gpkg', 'staged/WGS1984Quad/13/899/1063.gpkg', 'staged/WGS1984Quad/13/899/1064.gpkg', 'staged/WGS1984Quad/13/899/1062.gpkg', 'staged/WGS1984Quad/13/899/1074.gpkg', 'staged/WGS1984Quad/13/899/1075.gpkg', 'staged/WGS1984Quad/13/899/1076.gpkg', 'staged/WGS1984Quad/13/899/1077.gpkg']\n",
      "checking:  <AppFuture at 0x7fdf87ac7fa0 state=finished returned list>\n",
      "Do more with the results:  ['staged/WGS1984Quad/13/899/1078.gpkg', 'staged/WGS1984Quad/13/899/1079.gpkg', 'staged/WGS1984Quad/13/899/1080.gpkg', 'staged/WGS1984Quad/13/899/1059.gpkg', 'staged/WGS1984Quad/13/899/1060.gpkg', 'staged/WGS1984Quad/13/899/1061.gpkg', 'staged/WGS1984Quad/13/900/1065.gpkg', 'staged/WGS1984Quad/13/900/1066.gpkg', 'staged/WGS1984Quad/13/900/1067.gpkg', 'staged/WGS1984Quad/13/900/1068.gpkg']\n",
      "checking:  <AppFuture at 0x7fdf8b0407f0 state=finished returned list>\n",
      "Do more with the results:  ['staged/WGS1984Quad/13/900/1069.gpkg', 'staged/WGS1984Quad/13/900/1070.gpkg', 'staged/WGS1984Quad/13/900/1071.gpkg', 'staged/WGS1984Quad/13/900/1072.gpkg', 'staged/WGS1984Quad/13/900/1063.gpkg', 'staged/WGS1984Quad/13/900/1064.gpkg', 'staged/WGS1984Quad/13/900/1061.gpkg', 'staged/WGS1984Quad/13/900/1062.gpkg', 'staged/WGS1984Quad/13/900/1074.gpkg', 'staged/WGS1984Quad/13/900/1075.gpkg']\n",
      "checking:  <AppFuture at 0x7fdf87a0c070 state=finished returned list>\n",
      "Do more with the results:  ['staged/WGS1984Quad/13/900/1076.gpkg', 'staged/WGS1984Quad/13/900/1077.gpkg', 'staged/WGS1984Quad/13/900/1078.gpkg', 'staged/WGS1984Quad/13/900/1079.gpkg', 'staged/WGS1984Quad/13/900/1059.gpkg', 'staged/WGS1984Quad/13/900/1060.gpkg', 'staged/WGS1984Quad/13/895/1065.gpkg', 'staged/WGS1984Quad/13/895/1067.gpkg', 'staged/WGS1984Quad/13/895/1074.gpkg', 'staged/WGS1984Quad/13/895/1075.gpkg']\n",
      "checking:  <AppFuture at 0x7fdf8b040550 state=finished returned list>\n",
      "Do more with the results:  ['staged/WGS1984Quad/13/895/1076.gpkg', 'staged/WGS1984Quad/13/895/1077.gpkg', 'staged/WGS1984Quad/13/895/1078.gpkg', 'staged/WGS1984Quad/13/895/1079.gpkg', 'staged/WGS1984Quad/13/895/1057.gpkg', 'staged/WGS1984Quad/13/895/1058.gpkg', 'staged/WGS1984Quad/13/895/1059.gpkg', 'staged/WGS1984Quad/13/895/1060.gpkg', 'staged/WGS1984Quad/13/895/1061.gpkg', 'staged/WGS1984Quad/13/895/1062.gpkg']\n",
      "checking:  <AppFuture at 0x7fdf87a0ec50 state=finished returned list>\n",
      "Do more with the results:  ['staged/WGS1984Quad/13/895/1063.gpkg', 'staged/WGS1984Quad/13/895/1064.gpkg', 'staged/WGS1984Quad/13/896/1063.gpkg', 'staged/WGS1984Quad/13/896/1064.gpkg', 'staged/WGS1984Quad/13/896/1065.gpkg', 'staged/WGS1984Quad/13/896/1067.gpkg', 'staged/WGS1984Quad/13/896/1074.gpkg', 'staged/WGS1984Quad/13/896/1075.gpkg', 'staged/WGS1984Quad/13/896/1076.gpkg', 'staged/WGS1984Quad/13/896/1077.gpkg']\n",
      "checking:  <AppFuture at 0x7fdf87ac4250 state=finished returned list>\n",
      "Do more with the results:  ['staged/WGS1984Quad/13/896/1078.gpkg', 'staged/WGS1984Quad/13/896/1079.gpkg', 'staged/WGS1984Quad/13/896/1080.gpkg', 'staged/WGS1984Quad/13/896/1058.gpkg', 'staged/WGS1984Quad/13/896/1059.gpkg', 'staged/WGS1984Quad/13/896/1060.gpkg', 'staged/WGS1984Quad/13/896/1061.gpkg', 'staged/WGS1984Quad/13/896/1062.gpkg', 'staged/WGS1984Quad/13/915/1073.gpkg', 'staged/WGS1984Quad/13/915/1079.gpkg']\n",
      "checking:  <AppFuture at 0x7fdf87a0f070 state=finished returned list>\n",
      "Do more with the results:  ['staged/WGS1984Quad/13/915/1080.gpkg', 'staged/WGS1984Quad/13/915/1081.gpkg', 'staged/WGS1984Quad/13/915/1082.gpkg', 'staged/WGS1984Quad/13/915/1083.gpkg', 'staged/WGS1984Quad/13/915/1059.gpkg', 'staged/WGS1984Quad/13/915/1060.gpkg', 'staged/WGS1984Quad/13/915/1061.gpkg', 'staged/WGS1984Quad/13/915/1062.gpkg', 'staged/WGS1984Quad/13/915/1063.gpkg', 'staged/WGS1984Quad/13/916/1072.gpkg']\n",
      "checking:  <AppFuture at 0x7fdf87ac63e0 state=finished returned list>\n",
      "Do more with the results:  ['staged/WGS1984Quad/13/916/1073.gpkg', 'staged/WGS1984Quad/13/916/1074.gpkg', 'staged/WGS1984Quad/13/916/1079.gpkg', 'staged/WGS1984Quad/13/916/1080.gpkg', 'staged/WGS1984Quad/13/916/1081.gpkg', 'staged/WGS1984Quad/13/916/1082.gpkg', 'staged/WGS1984Quad/13/916/1083.gpkg', 'staged/WGS1984Quad/13/916/1059.gpkg', 'staged/WGS1984Quad/13/916/1060.gpkg', 'staged/WGS1984Quad/13/916/1061.gpkg']\n",
      "checking:  <AppFuture at 0x7fdf87a58bb0 state=finished returned list>\n",
      "Do more with the results:  ['staged/WGS1984Quad/13/916/1062.gpkg', 'staged/WGS1984Quad/13/916/1063.gpkg', 'staged/WGS1984Quad/13/919/1066.gpkg', 'staged/WGS1984Quad/13/919/1067.gpkg', 'staged/WGS1984Quad/13/919/1077.gpkg', 'staged/WGS1984Quad/13/919/1078.gpkg', 'staged/WGS1984Quad/13/919/1079.gpkg', 'staged/WGS1984Quad/13/919/1080.gpkg', 'staged/WGS1984Quad/13/919/1081.gpkg', 'staged/WGS1984Quad/13/919/1082.gpkg']\n",
      "checking:  <AppFuture at 0x7fdf87ac6590 state=finished returned list>\n",
      "Do more with the results:  ['staged/WGS1984Quad/13/919/1083.gpkg', 'staged/WGS1984Quad/13/919/1059.gpkg', 'staged/WGS1984Quad/13/919/1060.gpkg', 'staged/WGS1984Quad/13/919/1061.gpkg', 'staged/WGS1984Quad/13/919/1062.gpkg', 'staged/WGS1984Quad/13/919/1063.gpkg', 'staged/WGS1984Quad/13/919/1064.gpkg', 'staged/WGS1984Quad/13/919/1065.gpkg', 'staged/WGS1984Quad/13/917/1072.gpkg', 'staged/WGS1984Quad/13/917/1073.gpkg']\n",
      "checking:  <AppFuture at 0x7fdf87a5a1d0 state=finished returned list>\n",
      "Do more with the results:  ['staged/WGS1984Quad/13/917/1074.gpkg', 'staged/WGS1984Quad/13/917/1078.gpkg', 'staged/WGS1984Quad/13/917/1079.gpkg', 'staged/WGS1984Quad/13/917/1080.gpkg', 'staged/WGS1984Quad/13/917/1081.gpkg', 'staged/WGS1984Quad/13/917/1082.gpkg', 'staged/WGS1984Quad/13/917/1083.gpkg', 'staged/WGS1984Quad/13/917/1059.gpkg', 'staged/WGS1984Quad/13/917/1060.gpkg', 'staged/WGS1984Quad/13/917/1061.gpkg']\n",
      "checking:  <AppFuture at 0x7fdf87ac5690 state=finished returned list>\n",
      "Do more with the results:  ['staged/WGS1984Quad/13/917/1062.gpkg', 'staged/WGS1984Quad/13/917/1063.gpkg', 'staged/WGS1984Quad/13/920/1065.gpkg', 'staged/WGS1984Quad/13/920/1066.gpkg', 'staged/WGS1984Quad/13/920/1067.gpkg', 'staged/WGS1984Quad/13/920/1077.gpkg', 'staged/WGS1984Quad/13/920/1078.gpkg', 'staged/WGS1984Quad/13/920/1079.gpkg', 'staged/WGS1984Quad/13/920/1080.gpkg', 'staged/WGS1984Quad/13/920/1081.gpkg']\n",
      "checking:  <AppFuture at 0x7fdf93da8f70 state=finished returned list>\n",
      "Do more with the results:  ['staged/WGS1984Quad/13/920/1082.gpkg', 'staged/WGS1984Quad/13/920/1083.gpkg', 'staged/WGS1984Quad/13/920/1060.gpkg', 'staged/WGS1984Quad/13/920/1061.gpkg', 'staged/WGS1984Quad/13/920/1062.gpkg', 'staged/WGS1984Quad/13/920/1063.gpkg', 'staged/WGS1984Quad/13/920/1064.gpkg', 'staged/WGS1984Quad/13/918/1073.gpkg', 'staged/WGS1984Quad/13/918/1077.gpkg', 'staged/WGS1984Quad/13/918/1078.gpkg']\n",
      "checking:  <AppFuture at 0x7fdf87ac55a0 state=finished returned list>\n",
      "Do more with the results:  ['staged/WGS1984Quad/13/918/1079.gpkg', 'staged/WGS1984Quad/13/918/1080.gpkg', 'staged/WGS1984Quad/13/918/1081.gpkg', 'staged/WGS1984Quad/13/918/1082.gpkg', 'staged/WGS1984Quad/13/918/1083.gpkg', 'staged/WGS1984Quad/13/918/1059.gpkg', 'staged/WGS1984Quad/13/918/1060.gpkg', 'staged/WGS1984Quad/13/918/1061.gpkg', 'staged/WGS1984Quad/13/918/1062.gpkg', 'staged/WGS1984Quad/13/918/1063.gpkg']\n",
      "checking:  <AppFuture at 0x7fdf93da8ca0 state=finished returned list>\n",
      "Do more with the results:  ['staged/WGS1984Quad/13/921/1065.gpkg', 'staged/WGS1984Quad/13/921/1066.gpkg', 'staged/WGS1984Quad/13/921/1067.gpkg', 'staged/WGS1984Quad/13/921/1068.gpkg', 'staged/WGS1984Quad/13/921/1079.gpkg', 'staged/WGS1984Quad/13/921/1080.gpkg', 'staged/WGS1984Quad/13/921/1081.gpkg', 'staged/WGS1984Quad/13/921/1082.gpkg', 'staged/WGS1984Quad/13/921/1083.gpkg', 'staged/WGS1984Quad/13/901/1065.gpkg']\n",
      "checking:  <AppFuture at 0x7fdfa0efd9c0 state=finished returned list>\n",
      "Do more with the results:  ['staged/WGS1984Quad/13/901/1066.gpkg', 'staged/WGS1984Quad/13/901/1067.gpkg', 'staged/WGS1984Quad/13/901/1068.gpkg', 'staged/WGS1984Quad/13/901/1069.gpkg', 'staged/WGS1984Quad/13/901/1070.gpkg', 'staged/WGS1984Quad/13/901/1071.gpkg', 'staged/WGS1984Quad/13/901/1072.gpkg', 'staged/WGS1984Quad/13/901/1063.gpkg', 'staged/WGS1984Quad/13/901/1064.gpkg', 'staged/WGS1984Quad/13/901/1060.gpkg']\n",
      "checking:  <AppFuture at 0x7fdf93da8e50 state=finished returned list>\n",
      "Do more with the results:  ['staged/WGS1984Quad/13/901/1061.gpkg', 'staged/WGS1984Quad/13/901/1062.gpkg', 'staged/WGS1984Quad/13/922/1065.gpkg', 'staged/WGS1984Quad/13/922/1066.gpkg', 'staged/WGS1984Quad/13/922/1067.gpkg', 'staged/WGS1984Quad/13/922/1079.gpkg', 'staged/WGS1984Quad/13/922/1080.gpkg', 'staged/WGS1984Quad/13/922/1081.gpkg', 'staged/WGS1984Quad/13/922/1082.gpkg', 'staged/WGS1984Quad/13/922/1083.gpkg']\n",
      "checking:  <AppFuture at 0x7fdf87ac4760 state=finished returned list>\n",
      "Do more with the results:  ['staged/WGS1984Quad/13/923/1065.gpkg', 'staged/WGS1984Quad/13/923/1066.gpkg', 'staged/WGS1984Quad/13/923/1067.gpkg', 'staged/WGS1984Quad/13/923/1079.gpkg', 'staged/WGS1984Quad/13/923/1080.gpkg', 'staged/WGS1984Quad/13/923/1081.gpkg', 'staged/WGS1984Quad/13/923/1082.gpkg', 'staged/WGS1984Quad/13/923/1083.gpkg', 'staged/WGS1984Quad/13/923/1084.gpkg', 'staged/WGS1984Quad/13/924/1065.gpkg']\n",
      "checking:  <AppFuture at 0x7fdf93da9300 state=finished returned list>\n",
      "Do more with the results:  ['staged/WGS1984Quad/13/924/1066.gpkg', 'staged/WGS1984Quad/13/924/1067.gpkg', 'staged/WGS1984Quad/13/924/1079.gpkg', 'staged/WGS1984Quad/13/924/1080.gpkg', 'staged/WGS1984Quad/13/924/1081.gpkg', 'staged/WGS1984Quad/13/924/1082.gpkg', 'staged/WGS1984Quad/13/924/1083.gpkg', 'staged/WGS1984Quad/13/924/1084.gpkg', 'staged/WGS1984Quad/13/892/1075.gpkg', 'staged/WGS1984Quad/13/892/1076.gpkg']\n",
      "checking:  <AppFuture at 0x7fdf93a84bb0 state=finished returned list>\n",
      "Do more with the results:  ['staged/WGS1984Quad/13/892/1077.gpkg', 'staged/WGS1984Quad/13/892/1078.gpkg', 'staged/WGS1984Quad/13/892/1079.gpkg', 'staged/WGS1984Quad/13/892/1080.gpkg', 'staged/WGS1984Quad/13/892/1057.gpkg', 'staged/WGS1984Quad/13/892/1058.gpkg', 'staged/WGS1984Quad/13/892/1059.gpkg', 'staged/WGS1984Quad/13/892/1060.gpkg', 'staged/WGS1984Quad/13/892/1061.gpkg', 'staged/WGS1984Quad/13/892/1062.gpkg']\n",
      "checking:  <AppFuture at 0x7fdf93da8d90 state=finished returned list>\n",
      "Do more with the results:  ['staged/WGS1984Quad/13/892/1063.gpkg', 'staged/WGS1984Quad/13/892/1064.gpkg', 'staged/WGS1984Quad/13/902/1066.gpkg', 'staged/WGS1984Quad/13/902/1067.gpkg', 'staged/WGS1984Quad/13/902/1068.gpkg', 'staged/WGS1984Quad/13/902/1069.gpkg', 'staged/WGS1984Quad/13/902/1070.gpkg', 'staged/WGS1984Quad/13/902/1071.gpkg', 'staged/WGS1984Quad/13/902/1072.gpkg', 'staged/WGS1984Quad/13/902/1059.gpkg']\n",
      "checking:  <AppFuture at 0x7fdf87a08610 state=finished returned list>\n",
      "Do more with the results:  ['staged/WGS1984Quad/13/902/1060.gpkg', 'staged/WGS1984Quad/13/902/1061.gpkg', 'staged/WGS1984Quad/13/902/1062.gpkg', 'staged/WGS1984Quad/13/902/1063.gpkg', 'staged/WGS1984Quad/13/902/1064.gpkg', 'staged/WGS1984Quad/13/902/1065.gpkg', 'staged/WGS1984Quad/13/925/1066.gpkg', 'staged/WGS1984Quad/13/925/1067.gpkg', 'staged/WGS1984Quad/13/925/1079.gpkg', 'staged/WGS1984Quad/13/925/1080.gpkg']\n",
      "checking:  <AppFuture at 0x7fdf93a85930 state=finished returned list>\n",
      "Do more with the results:  ['staged/WGS1984Quad/13/925/1081.gpkg', 'staged/WGS1984Quad/13/925/1082.gpkg', 'staged/WGS1984Quad/13/925/1083.gpkg', 'staged/WGS1984Quad/13/925/1084.gpkg', 'staged/WGS1984Quad/13/893/1075.gpkg', 'staged/WGS1984Quad/13/893/1076.gpkg', 'staged/WGS1984Quad/13/893/1077.gpkg', 'staged/WGS1984Quad/13/893/1078.gpkg', 'staged/WGS1984Quad/13/893/1079.gpkg', 'staged/WGS1984Quad/13/893/1080.gpkg']\n",
      "checking:  <AppFuture at 0x7fdf87a094e0 state=finished returned list>\n",
      "Do more with the results:  ['staged/WGS1984Quad/13/893/1081.gpkg', 'staged/WGS1984Quad/13/893/1082.gpkg', 'staged/WGS1984Quad/13/893/1057.gpkg', 'staged/WGS1984Quad/13/893/1058.gpkg', 'staged/WGS1984Quad/13/893/1059.gpkg', 'staged/WGS1984Quad/13/893/1060.gpkg', 'staged/WGS1984Quad/13/893/1061.gpkg', 'staged/WGS1984Quad/13/893/1062.gpkg', 'staged/WGS1984Quad/13/893/1063.gpkg', 'staged/WGS1984Quad/13/893/1064.gpkg']\n",
      "checking:  <AppFuture at 0x7fdf8b4b60e0 state=finished returned list>\n",
      "Do more with the results:  ['staged/WGS1984Quad/13/926/1065.gpkg', 'staged/WGS1984Quad/13/926/1066.gpkg', 'staged/WGS1984Quad/13/926/1067.gpkg', 'staged/WGS1984Quad/13/926/1068.gpkg', 'staged/WGS1984Quad/13/926/1080.gpkg', 'staged/WGS1984Quad/13/926/1081.gpkg', 'staged/WGS1984Quad/13/926/1082.gpkg', 'staged/WGS1984Quad/13/926/1083.gpkg', 'staged/WGS1984Quad/13/927/1065.gpkg', 'staged/WGS1984Quad/13/927/1066.gpkg']\n",
      "checking:  <AppFuture at 0x7fdf87a0aa40 state=finished returned list>\n",
      "Do more with the results:  ['staged/WGS1984Quad/13/927/1067.gpkg', 'staged/WGS1984Quad/13/927/1068.gpkg', 'staged/WGS1984Quad/13/928/1065.gpkg', 'staged/WGS1984Quad/13/928/1066.gpkg', 'staged/WGS1984Quad/13/928/1067.gpkg', 'staged/WGS1984Quad/13/928/1068.gpkg', 'staged/WGS1984Quad/13/894/1074.gpkg', 'staged/WGS1984Quad/13/894/1075.gpkg', 'staged/WGS1984Quad/13/894/1076.gpkg', 'staged/WGS1984Quad/13/894/1077.gpkg']\n",
      "checking:  <AppFuture at 0x7fdf8b4b6b00 state=finished returned list>\n",
      "Do more with the results:  ['staged/WGS1984Quad/13/894/1078.gpkg', 'staged/WGS1984Quad/13/894/1079.gpkg', 'staged/WGS1984Quad/13/894/1080.gpkg', 'staged/WGS1984Quad/13/894/1081.gpkg', 'staged/WGS1984Quad/13/894/1057.gpkg', 'staged/WGS1984Quad/13/894/1058.gpkg', 'staged/WGS1984Quad/13/894/1059.gpkg', 'staged/WGS1984Quad/13/894/1060.gpkg', 'staged/WGS1984Quad/13/894/1061.gpkg', 'staged/WGS1984Quad/13/894/1062.gpkg']\n",
      "checking:  <AppFuture at 0x7fdf87a08070 state=finished returned list>\n",
      "Do more with the results:  ['staged/WGS1984Quad/13/894/1063.gpkg', 'staged/WGS1984Quad/13/894/1064.gpkg', 'staged/WGS1984Quad/13/929/1065.gpkg', 'staged/WGS1984Quad/13/929/1066.gpkg', 'staged/WGS1984Quad/13/929/1067.gpkg', 'staged/WGS1984Quad/13/929/1068.gpkg', 'staged/WGS1984Quad/13/930/1066.gpkg', 'staged/WGS1984Quad/13/930/1067.gpkg', 'staged/WGS1984Quad/13/913/1080.gpkg', 'staged/WGS1984Quad/13/913/1081.gpkg']\n",
      "checking:  <AppFuture at 0x7fdf93a85120 state=finished returned list>\n",
      "Do more with the results:  ['staged/WGS1984Quad/13/913/1082.gpkg', 'staged/WGS1984Quad/13/913/1083.gpkg', 'staged/WGS1984Quad/13/913/1059.gpkg', 'staged/WGS1984Quad/13/913/1060.gpkg', 'staged/WGS1984Quad/13/913/1061.gpkg', 'staged/WGS1984Quad/13/913/1062.gpkg', 'staged/WGS1984Quad/13/913/1063.gpkg', 'staged/WGS1984Quad/13/914/1079.gpkg', 'staged/WGS1984Quad/13/914/1080.gpkg', 'staged/WGS1984Quad/13/914/1081.gpkg']\n",
      "checking:  <AppFuture at 0x7fdfa0efdc90 state=finished returned list>\n",
      "Do more with the results:  ['staged/WGS1984Quad/13/914/1082.gpkg', 'staged/WGS1984Quad/13/914/1083.gpkg', 'staged/WGS1984Quad/13/914/1059.gpkg', 'staged/WGS1984Quad/13/914/1060.gpkg', 'staged/WGS1984Quad/13/914/1061.gpkg', 'staged/WGS1984Quad/13/914/1062.gpkg', 'staged/WGS1984Quad/13/914/1063.gpkg', 'staged/WGS1984Quad/13/903/1059.gpkg', 'staged/WGS1984Quad/13/903/1060.gpkg', 'staged/WGS1984Quad/13/903/1061.gpkg']\n",
      "checking:  <AppFuture at 0x7fdf87a5ba60 state=finished returned list>\n",
      "Do more with the results:  ['staged/WGS1984Quad/13/903/1062.gpkg', 'staged/WGS1984Quad/13/903/1063.gpkg', 'staged/WGS1984Quad/13/903/1064.gpkg', 'staged/WGS1984Quad/13/903/1065.gpkg', 'staged/WGS1984Quad/13/903/1066.gpkg', 'staged/WGS1984Quad/13/903/1067.gpkg', 'staged/WGS1984Quad/13/903/1068.gpkg', 'staged/WGS1984Quad/13/903/1069.gpkg', 'staged/WGS1984Quad/13/904/1059.gpkg', 'staged/WGS1984Quad/13/904/1060.gpkg']\n",
      "checking:  <AppFuture at 0x7fdf93a85840 state=finished returned list>\n",
      "Do more with the results:  ['staged/WGS1984Quad/13/904/1061.gpkg', 'staged/WGS1984Quad/13/904/1062.gpkg', 'staged/WGS1984Quad/13/904/1063.gpkg', 'staged/WGS1984Quad/13/904/1065.gpkg', 'staged/WGS1984Quad/13/904/1066.gpkg', 'staged/WGS1984Quad/13/904/1067.gpkg', 'staged/WGS1984Quad/13/904/1068.gpkg', 'staged/WGS1984Quad/13/904/1064.gpkg', 'staged/WGS1984Quad/13/905/1059.gpkg', 'staged/WGS1984Quad/13/905/1060.gpkg']\n",
      "checking:  <AppFuture at 0x7fdf87a58dc0 state=finished returned list>\n",
      "Do more with the results:  ['staged/WGS1984Quad/13/905/1061.gpkg', 'staged/WGS1984Quad/13/905/1062.gpkg', 'staged/WGS1984Quad/13/905/1063.gpkg', 'staged/WGS1984Quad/13/905/1064.gpkg', 'staged/WGS1984Quad/13/905/1065.gpkg', 'staged/WGS1984Quad/13/905/1066.gpkg', 'staged/WGS1984Quad/13/905/1067.gpkg', 'staged/WGS1984Quad/13/905/1068.gpkg', 'staged/WGS1984Quad/13/906/1059.gpkg', 'staged/WGS1984Quad/13/906/1060.gpkg']\n",
      "checking:  <AppFuture at 0x7fdfa0efd8a0 state=finished returned list>\n",
      "Do more with the results:  ['staged/WGS1984Quad/13/906/1061.gpkg', 'staged/WGS1984Quad/13/906/1063.gpkg', 'staged/WGS1984Quad/13/906/1066.gpkg', 'staged/WGS1984Quad/13/906/1067.gpkg', 'staged/WGS1984Quad/13/906/1068.gpkg', 'staged/WGS1984Quad/13/906/1069.gpkg', 'staged/WGS1984Quad/13/906/1064.gpkg', 'staged/WGS1984Quad/13/906/1065.gpkg', 'staged/WGS1984Quad/13/907/1059.gpkg', 'staged/WGS1984Quad/13/907/1060.gpkg']\n",
      "checking:  <AppFuture at 0x7fdfa0ef16c0 state=finished returned list>\n",
      "Do more with the results:  ['staged/WGS1984Quad/13/907/1061.gpkg', 'staged/WGS1984Quad/13/907/1062.gpkg', 'staged/WGS1984Quad/13/907/1063.gpkg', 'staged/WGS1984Quad/13/907/1067.gpkg', 'staged/WGS1984Quad/13/907/1068.gpkg', 'staged/WGS1984Quad/13/907/1069.gpkg', 'staged/WGS1984Quad/13/908/1059.gpkg', 'staged/WGS1984Quad/13/908/1060.gpkg', 'staged/WGS1984Quad/13/908/1061.gpkg', 'staged/WGS1984Quad/13/908/1062.gpkg']\n",
      "checking:  <AppFuture at 0x7fdf87ac4d30 state=finished returned list>\n",
      "Do more with the results:  ['staged/WGS1984Quad/13/908/1063.gpkg', 'staged/WGS1984Quad/13/908/1067.gpkg', 'staged/WGS1984Quad/13/908/1068.gpkg', 'staged/WGS1984Quad/13/908/1069.gpkg']\n"
     ]
    }
   ],
   "source": [
    "check_futures(all_futures)"
   ]
  },
  {
   "cell_type": "markdown",
   "metadata": {},
   "source": [
    "Don't forget to add lines to shut down the executor and clear `parsl`."
   ]
  },
  {
   "cell_type": "code",
   "execution_count": null,
   "metadata": {},
   "outputs": [],
   "source": [
    "htex_local.executors[0].shutdown()\n",
    "parsl.clear()"
   ]
  },
  {
   "cell_type": "markdown",
   "metadata": {},
   "source": [
    "Check to make sure that you have the same number of GeoTIFF files as we do staged vector tiles:"
   ]
  },
  {
   "cell_type": "code",
   "execution_count": null,
   "metadata": {},
   "outputs": [],
   "source": [
    "geotiff_paths = iwp_rasterizer.tiles.get_filenames_from_dir('geotiff')\n",
    "len(geotiff_paths) == len(staged_paths)"
   ]
  },
  {
   "attachments": {},
   "cell_type": "markdown",
   "metadata": {},
   "source": [
    "## Bonus Questions\n",
    "\n",
    "Step 1 took the original 11 files, ranging in size from 6 MB to 88 MB (all files = about 0.5 GB), and tiled them into 454 geopackage files. \n",
    "\n",
    "Discuss in your groups whether you suspect this process is CPU bound, I/O bound, memory bound, or network bound. \n",
    "\n",
    "How would you figure it out for sure?\n",
    "\n",
    "Why would you want to know?\n",
    "\n"
   ]
  },
  {
   "cell_type": "markdown",
   "metadata": {},
   "source": [
    "\n",
    "\n",
    "How would you test whether this Step 2 is CPU or I/O bound? One option would be to test whether adding more CPU decreases your computation time. Set up a test on a subset of the staged files (the first 100 or so is fine) and time the process at different `max_workers`. To make sure you don't overload the server, do not exceed 15 workers in your tests."
   ]
  }
 ],
 "metadata": {
  "kernelspec": {
   "display_name": "Python 3.10.12 ('scomp')",
   "language": "python",
   "name": "python3"
  },
  "language_info": {
   "codemirror_mode": {
    "name": "ipython",
    "version": 3
   },
   "file_extension": ".py",
   "mimetype": "text/x-python",
   "name": "python",
   "nbconvert_exporter": "python",
   "pygments_lexer": "ipython3",
   "version": "3.10.12"
  },
  "orig_nbformat": 4,
  "vscode": {
   "interpreter": {
    "hash": "1119e1da98070d4685d79724484b1d7d333d63de9952587332e4302fda9ece3e"
   }
  }
 },
 "nbformat": 4,
 "nbformat_minor": 2
}
