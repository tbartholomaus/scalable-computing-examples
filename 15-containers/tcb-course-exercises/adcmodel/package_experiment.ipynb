{
 "cells": [
  {
   "cell_type": "code",
   "execution_count": 1,
   "metadata": {},
   "outputs": [
    {
     "data": {
      "text/html": [
       "<div>\n",
       "<style scoped>\n",
       "    .dataframe tbody tr th:only-of-type {\n",
       "        vertical-align: middle;\n",
       "    }\n",
       "\n",
       "    .dataframe tbody tr th {\n",
       "        vertical-align: top;\n",
       "    }\n",
       "\n",
       "    .dataframe thead th {\n",
       "        text-align: right;\n",
       "    }\n",
       "</style>\n",
       "<table border=\"1\" class=\"dataframe\">\n",
       "  <thead>\n",
       "    <tr style=\"text-align: right;\">\n",
       "      <th></th>\n",
       "      <th>Date</th>\n",
       "      <th>Total Pressure [m]</th>\n",
       "      <th>Air Pressure [m]</th>\n",
       "      <th>Stage [m]</th>\n",
       "      <th>Discharge [m3/s]</th>\n",
       "      <th>temperature [degrees C]</th>\n",
       "    </tr>\n",
       "  </thead>\n",
       "  <tbody>\n",
       "    <tr>\n",
       "      <th>0</th>\n",
       "      <td>6/13/2016 0:00</td>\n",
       "      <td>9.816</td>\n",
       "      <td>9.609775</td>\n",
       "      <td>0.206225</td>\n",
       "      <td>0.083531</td>\n",
       "      <td>-0.1</td>\n",
       "    </tr>\n",
       "    <tr>\n",
       "      <th>1</th>\n",
       "      <td>6/13/2016 0:05</td>\n",
       "      <td>9.810</td>\n",
       "      <td>9.609715</td>\n",
       "      <td>0.200285</td>\n",
       "      <td>0.077785</td>\n",
       "      <td>-0.1</td>\n",
       "    </tr>\n",
       "    <tr>\n",
       "      <th>2</th>\n",
       "      <td>6/13/2016 0:10</td>\n",
       "      <td>9.804</td>\n",
       "      <td>9.609656</td>\n",
       "      <td>0.194344</td>\n",
       "      <td>0.072278</td>\n",
       "      <td>-0.1</td>\n",
       "    </tr>\n",
       "    <tr>\n",
       "      <th>3</th>\n",
       "      <td>6/13/2016 0:15</td>\n",
       "      <td>9.800</td>\n",
       "      <td>9.609596</td>\n",
       "      <td>0.190404</td>\n",
       "      <td>0.068756</td>\n",
       "      <td>-0.1</td>\n",
       "    </tr>\n",
       "    <tr>\n",
       "      <th>4</th>\n",
       "      <td>6/13/2016 0:20</td>\n",
       "      <td>9.793</td>\n",
       "      <td>9.609537</td>\n",
       "      <td>0.183463</td>\n",
       "      <td>0.062804</td>\n",
       "      <td>-0.1</td>\n",
       "    </tr>\n",
       "  </tbody>\n",
       "</table>\n",
       "</div>"
      ],
      "text/plain": [
       "             Date  Total Pressure [m]  Air Pressure [m]  Stage [m]  \\\n",
       "0  6/13/2016 0:00               9.816          9.609775   0.206225   \n",
       "1  6/13/2016 0:05               9.810          9.609715   0.200285   \n",
       "2  6/13/2016 0:10               9.804          9.609656   0.194344   \n",
       "3  6/13/2016 0:15               9.800          9.609596   0.190404   \n",
       "4  6/13/2016 0:20               9.793          9.609537   0.183463   \n",
       "\n",
       "   Discharge [m3/s]  temperature [degrees C]  \n",
       "0          0.083531                     -0.1  \n",
       "1          0.077785                     -0.1  \n",
       "2          0.072278                     -0.1  \n",
       "3          0.068756                     -0.1  \n",
       "4          0.062804                     -0.1  "
      ]
     },
     "execution_count": 1,
     "metadata": {},
     "output_type": "execute_result"
    }
   ],
   "source": [
    "from adcmodel.data import load_adc_csv\n",
    "\n",
    "df = load_adc_csv(\"urn:uuid:e248467d-e1f9-4a32-9e38-a9b4fb17cefb\")\n",
    "df.head()\n"
   ]
  },
  {
   "cell_type": "code",
   "execution_count": null,
   "metadata": {},
   "outputs": [],
   "source": []
  }
 ],
 "metadata": {
  "kernelspec": {
   "display_name": "adcmodel",
   "language": "python",
   "name": "python3"
  },
  "language_info": {
   "codemirror_mode": {
    "name": "ipython",
    "version": 3
   },
   "file_extension": ".py",
   "mimetype": "text/x-python",
   "name": "python",
   "nbconvert_exporter": "python",
   "pygments_lexer": "ipython3",
   "version": "3.10.12"
  }
 },
 "nbformat": 4,
 "nbformat_minor": 2
}
