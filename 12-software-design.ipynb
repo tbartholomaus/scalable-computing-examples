{
 "cells": [
  {
   "cell_type": "markdown",
   "metadata": {},
   "source": [
    "# Software design I\n",
    "https://learning.nceas.ucsb.edu/2024-03-arctic/sections/software-design-1.html"
   ]
  },
  {
   "cell_type": "code",
   "execution_count": 2,
   "metadata": {},
   "outputs": [
    {
     "name": "stdout",
     "output_type": "stream",
     "text": [
      "Ran wrapper\n",
      "Ran some function\n",
      "Finished wrapper\n"
     ]
    }
   ],
   "source": [
    "def some_function():\n",
    "    print(\"Ran some function\")\n",
    "\n",
    "def wrapper(func_to_run):\n",
    "    print(\"Ran wrapper\")\n",
    "    func_to_run()\n",
    "    print(\"Finished wrapper\")\n",
    "\n",
    "wrapper(some_function)"
   ]
  },
  {
   "cell_type": "code",
   "execution_count": 1,
   "metadata": {},
   "outputs": [
    {
     "name": "stdout",
     "output_type": "stream",
     "text": [
      "5\n"
     ]
    }
   ],
   "source": [
    "def do_task():\n",
    "    x = 10\n",
    "\n",
    "x = 5\n",
    "do_task()\n",
    "print(x)"
   ]
  },
  {
   "cell_type": "code",
   "execution_count": 6,
   "metadata": {},
   "outputs": [
    {
     "name": "stdout",
     "output_type": "stream",
     "text": [
      "10\n"
     ]
    }
   ],
   "source": [
    "def do_task():\n",
    "    global x\n",
    "    x = 10\n",
    "\n",
    "x = 5\n",
    "do_task() # Try commenting this in or out\n",
    "print(x)"
   ]
  },
  {
   "cell_type": "code",
   "execution_count": 7,
   "metadata": {},
   "outputs": [
    {
     "data": {
      "text/plain": [
       "18"
      ]
     },
     "execution_count": 7,
     "metadata": {},
     "output_type": "execute_result"
    }
   ],
   "source": [
    "a = 3\n",
    "def do_stuff(b): # this is NOT a pure function\n",
    "    return a*b # While this is ok to write; it's bad form.  Instead write pure functions\n",
    "\n",
    "do_stuff(6) # Do stuff is being called in an environment in which the enclosing namespace contains a=3"
   ]
  },
  {
   "cell_type": "markdown",
   "metadata": {},
   "source": [
    "A pure function is dependent ONLY on the variables that are passed to it.\n",
    "\n",
    "If a function depends on reading from a file, then that's a side effect.  Also not strictly a pure function\n",
    "\n",
    "This is almost idealogical. pascal is a language that requires pure functions.\n",
    "\n",
    "Be especially careful about pure functions and the namespace when working with parallelized code.  If you don't write pure functions, then when code is run out of order, then we can run into big problems."
   ]
  },
  {
   "cell_type": "markdown",
   "metadata": {},
   "source": [
    "# Locking\n"
   ]
  },
  {
   "cell_type": "markdown",
   "metadata": {},
   "source": []
  },
  {
   "cell_type": "code",
   "execution_count": 30,
   "metadata": {},
   "outputs": [
    {
     "name": "stdout",
     "output_type": "stream",
     "text": [
      "14052     HelloHelloHelloHelloHello\n",
      "\n",
      "\n",
      "\n",
      "\n",
      "0412 5   World WorldWorld\n",
      "World\n",
      "\n",
      "\n",
      "World\n",
      "3 Hello6\n",
      " 3 HelloWorld\n",
      "\n",
      "6 World\n",
      "------\n",
      "7\n",
      "<<-->>\n",
      "0\n",
      "1\n",
      "2\n",
      "3\n",
      "4\n",
      "5\n",
      "6\n"
     ]
    }
   ],
   "source": [
    "from concurrent.futures import ProcessPoolExecutor\n",
    "import time\n",
    "\n",
    "def hello(i):\n",
    "    print(i, \"Hello\")\n",
    "    print(i, \"World\")\n",
    "    return i\n",
    "\n",
    "executor = ProcessPoolExecutor()\n",
    "\n",
    "futures = [executor.submit(hello, i) for i in range(7)]\n",
    "\n",
    "# for future in futures:\n",
    "#     future.result()\n",
    "\n",
    "# [future.result() for future in futures]\n",
    "\n",
    "# futures[1].result()\n",
    "\n",
    "print('------')\n",
    "print(len(futures))\n",
    "print('<<-->>')\n",
    "\n",
    "for future in futures:\n",
    "    print(future.result())\n",
    "\n",
    "# The function is printing to standard out, and all of the functions are competing with each other.\n",
    "    # Every time you run this, it will end up somewhere new.\n",
    "    # But the key is that the results are In Order!"
   ]
  },
  {
   "cell_type": "code",
   "execution_count": 15,
   "metadata": {},
   "outputs": [
    {
     "name": "stdout",
     "output_type": "stream",
     "text": [
      "0 Hello\n",
      "0 World\n",
      "1 Hello\n",
      "1 World\n",
      "3 Hello\n",
      "3 World\n",
      "4 Hello\n",
      "4 World\n",
      "2 Hello\n",
      "2 World\n"
     ]
    },
    {
     "data": {
      "text/plain": [
       "[None, None, None, None, None]"
      ]
     },
     "execution_count": 15,
     "metadata": {},
     "output_type": "execute_result"
    }
   ],
   "source": [
    "from concurrent.futures import ProcessPoolExecutor\n",
    "import time\n",
    "import multiprocessing\n",
    "\n",
    "def hello(i, lock):\n",
    "    with lock: # requires that these pieces of code all execute together\n",
    "        print(i, \"Hello\")\n",
    "        print(i, \"World\")\n",
    "\n",
    "lock = multiprocessing.Manager().Lock()\n",
    "\n",
    "executor = ProcessPoolExecutor()\n",
    "futures = [executor.submit(hello, i, lock) for i in range(5)]\n",
    "\n",
    "# for future in futures:\n",
    "#     future.result()\n",
    "\n",
    "[future.result() for future in futures]\n"
   ]
  },
  {
   "cell_type": "code",
   "execution_count": null,
   "metadata": {},
   "outputs": [],
   "source": []
  }
 ],
 "metadata": {
  "kernelspec": {
   "display_name": "scomp",
   "language": "python",
   "name": "python3"
  },
  "language_info": {
   "codemirror_mode": {
    "name": "ipython",
    "version": 3
   },
   "file_extension": ".py",
   "mimetype": "text/x-python",
   "name": "python",
   "nbconvert_exporter": "python",
   "pygments_lexer": "ipython3",
   "version": "3.10.12"
  }
 },
 "nbformat": 4,
 "nbformat_minor": 2
}
