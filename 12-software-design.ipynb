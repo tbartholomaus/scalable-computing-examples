{
 "cells": [
  {
   "cell_type": "markdown",
   "metadata": {},
   "source": [
    "# Software design I\n",
    "https://learning.nceas.ucsb.edu/2024-03-arctic/sections/software-design-1.html"
   ]
  },
  {
   "cell_type": "code",
   "execution_count": 2,
   "metadata": {},
   "outputs": [
    {
     "name": "stdout",
     "output_type": "stream",
     "text": [
      "Ran wrapper\n",
      "Ran some function\n",
      "Finished wrapper\n"
     ]
    }
   ],
   "source": [
    "def some_function():\n",
    "    print(\"Ran some function\")\n",
    "\n",
    "def wrapper(func_to_run):\n",
    "    print(\"Ran wrapper\")\n",
    "    func_to_run()\n",
    "    print(\"Finished wrapper\")\n",
    "\n",
    "wrapper(some_function)"
   ]
  },
  {
   "cell_type": "code",
   "execution_count": 1,
   "metadata": {},
   "outputs": [
    {
     "name": "stdout",
     "output_type": "stream",
     "text": [
      "5\n"
     ]
    }
   ],
   "source": [
    "def do_task():\n",
    "    x = 10\n",
    "\n",
    "x = 5\n",
    "do_task()\n",
    "print(x)"
   ]
  },
  {
   "cell_type": "code",
   "execution_count": 6,
   "metadata": {},
   "outputs": [
    {
     "name": "stdout",
     "output_type": "stream",
     "text": [
      "10\n"
     ]
    }
   ],
   "source": [
    "def do_task():\n",
    "    global x\n",
    "    x = 10\n",
    "\n",
    "x = 5\n",
    "do_task() # Try commenting this in or out\n",
    "print(x)"
   ]
  },
  {
   "cell_type": "code",
   "execution_count": null,
   "metadata": {},
   "outputs": [],
   "source": []
  },
  {
   "cell_type": "code",
   "execution_count": null,
   "metadata": {},
   "outputs": [],
   "source": []
  }
 ],
 "metadata": {
  "kernelspec": {
   "display_name": "scomp",
   "language": "python",
   "name": "python3"
  },
  "language_info": {
   "codemirror_mode": {
    "name": "ipython",
    "version": 3
   },
   "file_extension": ".py",
   "mimetype": "text/x-python",
   "name": "python",
   "nbconvert_exporter": "python",
   "pygments_lexer": "ipython3",
   "version": "3.10.12"
  }
 },
 "nbformat": 4,
 "nbformat_minor": 2
}
